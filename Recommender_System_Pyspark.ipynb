{
 "cells": [
  {
   "cell_type": "markdown",
   "metadata": {},
   "source": [
    "\n"
   ]
  },
  {
   "cell_type": "code",
   "execution_count": 4,
   "metadata": {},
   "outputs": [],
   "source": [
    "from pyspark.sql import SparkSession \n",
    "from pyspark.sql import SQLContext\n",
    "from pyspark.sql.functions import udf, col, when \n",
    "from pyspark.ml.evaluation import RegressionEvaluator\n",
    "from pyspark.ml.recommendation import ALS \n",
    "from pyspark.ml.tuning import ParamGridBuilder \n",
    "from pyspark.ml.tuning import TrainValidationSplit, ParamGridBuilder \n",
    "from pyspark.ml.tuning import CrossValidator \n",
    "from IPython.display import Image\n",
    "from IPython.display import display\n",
    "import pandas as pd \n",
    "import numpy as np  "
   ]
  },
  {
   "cell_type": "code",
   "execution_count": 3,
   "metadata": {},
   "outputs": [],
   "source": [
    "ratings_df = spark.read.option(\"header\",\"true\").option(\"inferSchema\",\"true\").format(\"csv\").load(\"ratings.csv\")"
   ]
  },
  {
   "cell_type": "code",
   "execution_count": 4,
   "metadata": {},
   "outputs": [],
   "source": [
    "movies_df = spark.read.option(\"header\",\"true\").option(\"inferSchema\",\"true\").format(\"csv\").load(\"movies.csv\")"
   ]
  },
  {
   "cell_type": "code",
   "execution_count": 5,
   "metadata": {},
   "outputs": [],
   "source": [
    "users_df = spark.read.option(\"header\",\"true\").option(\"inferSchema\",\"true\").format(\"csv\").load(\"users.csv\")"
   ]
  },
  {
   "cell_type": "code",
   "execution_count": 6,
   "metadata": {},
   "outputs": [
    {
     "name": "stdout",
     "output_type": "stream",
     "text": [
      "+-------+--------+------+\n",
      "|user_id|movie_id|rating|\n",
      "+-------+--------+------+\n",
      "|      1|    1193|     5|\n",
      "|      1|     661|     3|\n",
      "|      1|     914|     3|\n",
      "|      1|    3408|     4|\n",
      "|      1|    2355|     5|\n",
      "+-------+--------+------+\n",
      "only showing top 5 rows\n",
      "\n"
     ]
    }
   ],
   "source": [
    "ratings_df.show(5)"
   ]
  },
  {
   "cell_type": "code",
   "execution_count": 7,
   "metadata": {},
   "outputs": [
    {
     "name": "stdout",
     "output_type": "stream",
     "text": [
      "+--------+--------------------+--------------------+\n",
      "|movie_id|               title|              genres|\n",
      "+--------+--------------------+--------------------+\n",
      "|       1|    Toy Story (1995)|Animation|Childre...|\n",
      "|       2|      Jumanji (1995)|Adventure|Childre...|\n",
      "|       3|Grumpier Old Men ...|      Comedy|Romance|\n",
      "|       4|Waiting to Exhale...|        Comedy|Drama|\n",
      "|       5|Father of the Bri...|              Comedy|\n",
      "+--------+--------------------+--------------------+\n",
      "only showing top 5 rows\n",
      "\n"
     ]
    }
   ],
   "source": [
    "movies_df.show(5)"
   ]
  },
  {
   "cell_type": "code",
   "execution_count": 8,
   "metadata": {},
   "outputs": [
    {
     "name": "stdout",
     "output_type": "stream",
     "text": [
      "+--------------------------------------------------------+\n",
      "|\tuser_id\tgender\tage\toccupation\tzipcode\tage_desc\tocc_desc|\n",
      "+--------------------------------------------------------+\n",
      "|                                    0\t1\tF\t1\t10\t48067\t...|\n",
      "|                                    1\t2\tM\t56\t16\t70072...|\n",
      "|                                    2\t3\tM\t25\t15\t55117...|\n",
      "|                                    3\t4\tM\t45\t7\t02460\t...|\n",
      "|                                    4\t5\tM\t25\t20\t55455...|\n",
      "+--------------------------------------------------------+\n",
      "only showing top 5 rows\n",
      "\n"
     ]
    }
   ],
   "source": [
    "users_df.show(5)"
   ]
  },
  {
   "cell_type": "code",
   "execution_count": 9,
   "metadata": {},
   "outputs": [],
   "source": [
    "# Splitting the dataset into training and testing at a ratio of 0.8 to 0.2\n",
    "training_df, validation_df = ratings_df.randomSplit([0.8, 0.2])"
   ]
  },
  {
   "cell_type": "code",
   "execution_count": 10,
   "metadata": {},
   "outputs": [],
   "source": [
    "# Setting the parameters for ALS\n",
    "iterations = 10 \n",
    "regularization_parameter = 0.1 \n",
    "rank = 4,7\n",
    "errors = []\n",
    "err = 0"
   ]
  },
  {
   "cell_type": "code",
   "execution_count": 11,
   "metadata": {},
   "outputs": [],
   "source": [
    "# Applying the parameters to the Alternating Least Squares Model\n",
    "als = ALS(maxIter = iterations,\n",
    "         regParam = regularization_parameter,\n",
    "         rank = 4,\n",
    "         userCol = \"user_id\",\n",
    "         itemCol =\"movie_id\",\n",
    "         ratingCol = \"rating\", coldStartStrategy=\"drop\")"
   ]
  },
  {
   "cell_type": "code",
   "execution_count": 16,
   "metadata": {},
   "outputs": [],
   "source": [
    "# Training the model on the train set\n",
    "model = als.fit(training_df)"
   ]
  },
  {
   "cell_type": "code",
   "execution_count": 17,
   "metadata": {},
   "outputs": [],
   "source": [
    "# Test the model on the test-set\n",
    "predictions = model.transform(validation_df)"
   ]
  },
  {
   "cell_type": "code",
   "execution_count": 18,
   "metadata": {},
   "outputs": [],
   "source": [
    "# Using Mean Squared Error as evaluation metric.\n",
    "evaluator = RegressionEvaluator(metricName = \"rmse\", labelCol = \"rating\", predictionCol = \"prediction\")"
   ]
  },
  {
   "cell_type": "code",
   "execution_count": 20,
   "metadata": {},
   "outputs": [],
   "source": [
    "rmse = evaluator.evaluate(predictions)"
   ]
  },
  {
   "cell_type": "code",
   "execution_count": 17,
   "metadata": {},
   "outputs": [
    {
     "name": "stdout",
     "output_type": "stream",
     "text": [
      "Root Mean Square Error = 0.879900371075126\n"
     ]
    }
   ],
   "source": [
    "# Print out the evaluattion metric for the baseline model (RMSE) \n",
    "print (\"Root Mean Square Error = \" + str(rmse))"
   ]
  },
  {
   "cell_type": "code",
   "execution_count": 60,
   "metadata": {},
   "outputs": [
    {
     "name": "stdout",
     "output_type": "stream",
     "text": [
      "mae = 0.8695889446072668\n"
     ]
    }
   ],
   "source": [
    "# Now I will initiate a grid search to conduct hyperparametric tuning.\n",
    "als = ALS(maxIter = iterations, regParam = regularization_parameter, userCol = \"user_id\",\n",
    "          itemCol =\"movie_id\",\n",
    "          ratingCol = \"rating\", \n",
    "          coldStartStrategy=\"drop\")\n",
    "\n",
    "\n",
    "paramGrid = ParamGridBuilder() \\\n",
    ".addGrid(als.regParam, [ 0.1, 0.2, 0.7 ] ) \\\n",
    ".addGrid(als.maxIter, [15, 17, 19])\\\n",
    ".addGrid(als.rank, range(2,8)) \\\n",
    ".build()\n",
    "\n",
    "predictions = predictions.filter(col('prediction') != np.nan)\n",
    "evaluator = RegressionEvaluator(metricName = (\"mae\"), labelCol = \"rating\", predictionCol = \"prediction\")\n",
    "crossval = CrossValidator(estimator = als,\n",
    "                                  estimatorParamMaps = paramGrid,\n",
    "                                  evaluator = evaluator,\n",
    "                                  numFolds=2)\n",
    "\n",
    "cvModel = crossval.fit(training_df)\n",
    "print (\"Mean absolute Error = \" + str(rmse))"
   ]
  },
  {
   "cell_type": "code",
   "execution_count": 41,
   "metadata": {},
   "outputs": [],
   "source": [
    "predictions = predictions.filter(col('prediction') != np.nan)"
   ]
  },
  {
   "cell_type": "code",
   "execution_count": 42,
   "metadata": {},
   "outputs": [
    {
     "name": "stdout",
     "output_type": "stream",
     "text": [
      "Root Mean Square Error = 0.8695889446072668\n"
     ]
    }
   ],
   "source": [
    "print (\"Root Mean Square Error = \" + str(rmse))"
   ]
  },
  {
   "cell_type": "code",
   "execution_count": 43,
   "metadata": {},
   "outputs": [
    {
     "name": "stdout",
     "output_type": "stream",
     "text": [
      "+-------+--------+------+----------+\n",
      "|user_id|movie_id|rating|prediction|\n",
      "+-------+--------+------+----------+\n",
      "|   3053|     148|     3|  3.069607|\n",
      "|   4040|     463|     1| 1.9760653|\n",
      "|   4277|     463|     4| 3.4980903|\n",
      "|   3032|     463|     4|  4.316007|\n",
      "|   2210|     463|     3|  2.551093|\n",
      "|   3709|     463|     3| 2.3377364|\n",
      "|   1146|     463|     2| 2.1019523|\n",
      "|   2777|     463|     3| 3.0896657|\n",
      "|   5511|     463|     2| 3.3512058|\n",
      "|    524|     463|     3| 2.5116155|\n",
      "+-------+--------+------+----------+\n",
      "only showing top 10 rows\n",
      "\n"
     ]
    }
   ],
   "source": [
    "# Make predictions and extract 10 recommendations\n",
    "predictions.show(n = 10)"
   ]
  },
  {
   "cell_type": "code",
   "execution_count": 34,
   "metadata": {},
   "outputs": [
    {
     "name": "stdout",
     "output_type": "stream",
     "text": [
      "+-------+--------------------+--------------------+----------+\n",
      "|user_id|               title|              genres|prediction|\n",
      "+-------+--------------------+--------------------+----------+\n",
      "|   3053|Awfully Big Adven...|               Drama|  2.792067|\n",
      "|   4040|Guilty as Sin (1993)|Crime|Drama|Thriller| 1.9937147|\n",
      "|   4277|Guilty as Sin (1993)|Crime|Drama|Thriller| 3.3355322|\n",
      "|   3032|Guilty as Sin (1993)|Crime|Drama|Thriller|  4.264699|\n",
      "|   2210|Guilty as Sin (1993)|Crime|Drama|Thriller|  2.297533|\n",
      "+-------+--------------------+--------------------+----------+\n",
      "only showing top 5 rows\n",
      "\n"
     ]
    }
   ],
   "source": [
    "# Lets map these results back to their respective movie genres and title\n",
    "predictions.join(movies_df, \"movie_id\").select(\"user_id\",\"title\",\"genres\",\"prediction\").show(10)"
   ]
  },
  {
   "cell_type": "code",
   "execution_count": 31,
   "metadata": {},
   "outputs": [
    {
     "name": "stdout",
     "output_type": "stream",
     "text": [
      "+--------+-------+------+----------+--------------------+-------------+\n",
      "|movie_id|user_id|rating|prediction|               title|       genres|\n",
      "+--------+-------+------+----------+--------------------+-------------+\n",
      "|    1296|    345|     5| 4.2018843|Room with a View,...|Drama|Romance|\n",
      "|    1704|    345|     4|  4.342558|Good Will Hunting...|        Drama|\n",
      "|    2165|    345|     4| 3.6678488|Your Friends and ...|        Drama|\n",
      "|    2908|    345|     5|  4.438612|Boys Don't Cry (1...|        Drama|\n",
      "+--------+-------+------+----------+--------------------+-------------+\n",
      "\n"
     ]
    }
   ],
   "source": [
    "# Lets randomly choose a user to see how the actual movie recommendations for that user.\n",
    "random_user_predictions = predictions.filter(col(\"user_id\")== 345).join(movies_df, \"movie_id\")\n",
    "random_user_predictions.show(5)"
   ]
  },
  {
   "cell_type": "code",
   "execution_count": 45,
   "metadata": {},
   "outputs": [],
   "source": [
    "# Produce top 5 recommendations for every user\n",
    "userRecommend = model.recommendForAllUsers(5)\n",
    "\n",
    "# Produce top 5 user recommendations for each movie\n",
    "movieRecommends = model.recommendForAllItems(5)"
   ]
  },
  {
   "cell_type": "code",
   "execution_count": 46,
   "metadata": {},
   "outputs": [
    {
     "name": "stdout",
     "output_type": "stream",
     "text": [
      "+-------+----------------------------+\n",
      "|user_id|movie_id                    |\n",
      "+-------+----------------------------+\n",
      "|1580   |[557, 989, 787, 1420, 53]   |\n",
      "|4900   |[3233, 318, 527, 2309, 858] |\n",
      "|5300   |[557, 787, 2309, 1149, 53]  |\n",
      "|471    |[3245, 682, 3338, 1423, 53] |\n",
      "|1591   |[3233, 989, 557, 787, 2503] |\n",
      "|4101   |[1780, 3003, 37, 2964, 3314]|\n",
      "|1342   |[3172, 318, 1780, 1198, 989]|\n",
      "|2122   |[3233, 2760, 858, 3172, 527]|\n",
      "|2142   |[318, 3233, 527, 1851, 50]  |\n",
      "|463    |[2309, 2760, 682, 858, 106] |\n",
      "+-------+----------------------------+\n",
      "only showing top 10 rows\n",
      "\n"
     ]
    }
   ],
   "source": [
    "userRecommend.select(\"user_id\", \"recommendations.movie_id\").show(10, False)"
   ]
  },
  {
   "cell_type": "code",
   "execution_count": 50,
   "metadata": {},
   "outputs": [
    {
     "name": "stdout",
     "output_type": "stream",
     "text": [
      "+-------+\n",
      "|user_id|\n",
      "+-------+\n",
      "|    148|\n",
      "|    463|\n",
      "|    471|\n",
      "|    496|\n",
      "|    833|\n",
      "+-------+\n",
      "\n"
     ]
    }
   ],
   "source": [
    "users = ratings_df.select(\"user_id\"). distinct().limit(5);\n",
    "users.show()"
   ]
  },
  {
   "cell_type": "code",
   "execution_count": 52,
   "metadata": {},
   "outputs": [
    {
     "name": "stdout",
     "output_type": "stream",
     "text": [
      "+-------+--------------------+\n",
      "|user_id|     recommendations|\n",
      "+-------+--------------------+\n",
      "|    471|[[3245, 4.783424]...|\n",
      "|    463|[[2309, 4.2573185...|\n",
      "|    833|[[2129, 5.225012]...|\n",
      "|    496|[[108, 5.7070894]...|\n",
      "|    148|[[2825, 4.7420435...|\n",
      "+-------+--------------------+\n",
      "\n"
     ]
    }
   ],
   "source": [
    "userSubsetRecs = model.recommendForUserSubset(users,10)\n",
    "userSubsetRecs.show()"
   ]
  },
  {
   "cell_type": "code",
   "execution_count": 53,
   "metadata": {},
   "outputs": [
    {
     "name": "stdout",
     "output_type": "stream",
     "text": [
      "+-------+----------------------------------------------------------+\n",
      "|user_id|movie_id                                                  |\n",
      "+-------+----------------------------------------------------------+\n",
      "|471    |[3245, 682, 3338, 1423, 53, 2905, 2309, 2019, 1851, 750]  |\n",
      "|463    |[2309, 2760, 682, 858, 106, 3233, 3338, 1193, 787, 318]   |\n",
      "|833    |[2129, 3314, 3003, 811, 2332, 2197, 3233, 37, 985, 3853]  |\n",
      "|496    |[108, 1360, 1780, 2810, 2127, 989, 2571, 449, 3636, 598]  |\n",
      "|148    |[2825, 1471, 1360, 3314, 989, 985, 3172, 1519, 3607, 1198]|\n",
      "+-------+----------------------------------------------------------+\n",
      "\n"
     ]
    }
   ],
   "source": [
    "userSubsetRecs.select(\"user_id\", \"recommendations.movie_id\").show(10, False)"
   ]
  }
 ],
 "metadata": {
  "kernelspec": {
   "display_name": "Python 3",
   "language": "python",
   "name": "python3"
  },
  "language_info": {
   "codemirror_mode": {
    "name": "ipython",
    "version": 3
   },
   "file_extension": ".py",
   "mimetype": "text/x-python",
   "name": "python",
   "nbconvert_exporter": "python",
   "pygments_lexer": "ipython3",
   "version": "3.8.5"
  }
 },
 "nbformat": 4,
 "nbformat_minor": 4
}
